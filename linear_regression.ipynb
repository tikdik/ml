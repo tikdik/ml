{
 "cells": [
  {
   "cell_type": "code",
   "execution_count": 1,
   "metadata": {
    "scrolled": true
   },
   "outputs": [
    {
     "name": "stdout",
     "output_type": "stream",
     "text": [
      "start\n",
      "Epoch: 0050 cost= 0.489154786 W= 1.98484 b= -1.0015569\n",
      "Epoch: 0100 cost= 0.489154786 W= 1.98484 b= -1.0015569\n",
      "Optimization Finished!\n",
      "Training cost= 0.4891548 W= 1.98484 b= -1.0015569 \n",
      "\n",
      "INFO:tensorflow:Froze 2 variables.\n",
      "INFO:tensorflow:Converted 2 variables to const ops.\n",
      "WARNING:tensorflow:From <ipython-input-1-ba9a90faf7e4>:68: FastGFile.__init__ (from tensorflow.python.platform.gfile) is deprecated and will be removed in a future version.\n",
      "Instructions for updating:\n",
      "Use tf.gfile.GFile.\n"
     ]
    }
   ],
   "source": [
    "import numpy as np \n",
    "import os\n",
    "import tensorflow as tf\n",
    "from tensorflow.python.framework import graph_util\n",
    "\n",
    "#construct data\n",
    "x_data = np.linspace(-1,1,300, dtype=np.float32)\n",
    "noise = np.random.normal(0, 0.05, x_data.shape).astype(np.float32)\n",
    "y_data = 2 * x_data - 1 + noise\n",
    "\n",
    "#slice train data\n",
    "train_x = x_data[0:200]\n",
    "train_y = y_data[0:200]\n",
    "\n",
    "#slice test data\n",
    "test_x = x_data[200:]\n",
    "test_y = y_data[200:]\n",
    "\n",
    "# Parameters\n",
    "learning_rate = 0.01\n",
    "training_epochs = 100\n",
    "display_step = 50\n",
    "\n",
    "with tf.name_scope('input'):\n",
    "    X = tf.placeholder(tf.float32, name=\"x\")\n",
    "    Y = tf.placeholder(tf.float32, name=\"y\")\n",
    "\n",
    "with tf.name_scope('my-model'):\n",
    "    W = tf.Variable(np.random.randn(), name=\"weight\", dtype=tf.float32)\n",
    "    b = tf.Variable(np.random.randn(), name=\"bias\", dtype=tf.float32)\n",
    "    pre_y = tf.add(tf.multiply(X, W), b, name=\"my\")\n",
    "\n",
    "with tf.name_scope('loss'):\n",
    "    loss = tf.math.reduce_sum(tf.math.pow(pre_y - Y, 2))\n",
    "\n",
    "with tf.name_scope('train'):\n",
    "    optimizer = tf.train.GradientDescentOptimizer(learning_rate).minimize(loss)\n",
    "\n",
    "# Initialize the variables (i.e. assign their default value)\n",
    "init = tf.global_variables_initializer()\n",
    "print(\"start\")\n",
    "with tf.Session() as sess:\n",
    "    # Run the initializer\n",
    "    sess.run(init)\n",
    "\n",
    "    # Fit all training data\n",
    "    for epoch in range(training_epochs):\n",
    "        for (x, y) in zip(train_x, train_y):\n",
    "            sess.run(optimizer, feed_dict={X: x, Y: y})\n",
    "        #sess.run(optimizer, feed_dict={X: train_x, Y:train_y})\n",
    "    \n",
    "        # Display logs per epoch step\n",
    "        if (epoch+1) % display_step == 0:\n",
    "            c = sess.run(loss, feed_dict={X: train_x, Y:train_y})\n",
    "            print(\"Epoch:\", '%04d' % (epoch+1), \"cost=\", \"{:.9f}\".format(c), \\\n",
    "                \"W=\", sess.run(W), \"b=\", sess.run(b))\n",
    "\n",
    "    print(\"Optimization Finished!\")\n",
    "    training_cost = sess.run(loss, feed_dict={X: train_x, Y: train_y})\n",
    "    print(\"Training cost=\", training_cost, \"W=\", sess.run(W), \"b=\", sess.run(b), '\\n')\n",
    "    \n",
    "#     print(\"Testing... (Mean square loss Comparison)\")\n",
    "#     testing_cost = sess.run(loss,feed_dict={X: test_x, Y: test_y})  # same function as cost above\n",
    "#     print(\"Testing cost=\", testing_cost)\n",
    "#     print(\"Absolute mean square loss difference:\", abs(\n",
    "#         training_cost - testing_cost))\n",
    "    constant_graph = graph_util.convert_variables_to_constants(sess, sess.graph_def, ['my-model/my'])\n",
    "    with tf.gfile.FastGFile(os.getcwd()+'/linear_regression/model.pb', mode='wb') as f:\n",
    "        f.write(constant_graph.SerializeToString())\n",
    "    # 生成一个具有写权限的日志文件操作对象，将当前命名空间的计算图写进日志中\n",
    "    writer=tf.summary.FileWriter('linear_regression/logs', sess.graph)\n",
    "    writer.close()"
   ]
  },
  {
   "cell_type": "code",
   "execution_count": 1,
   "metadata": {},
   "outputs": [
    {
     "name": "stdout",
     "output_type": "stream",
     "text": [
      "WARNING:tensorflow:From <ipython-input-1-f07c957206e6>:6: FastGFile.__init__ (from tensorflow.python.platform.gfile) is deprecated and will be removed in a future version.\n",
      "Instructions for updating:\n",
      "Use tf.gfile.GFile.\n"
     ]
    }
   ],
   "source": [
    "import tensorflow as tf\n",
    "from tensorflow.python.platform import gfile\n",
    "import os\n",
    "\n",
    "sess = tf.Session()\n",
    "with gfile.FastGFile(os.getcwd()+'/linear_regression/model.pb', 'rb') as f:\n",
    "    graph_def = tf.GraphDef()\n",
    "    graph_def.ParseFromString(f.read())\n",
    "    sess.graph.as_default()\n",
    "    tf.import_graph_def(graph_def, name='') # 导入计算图\n",
    "\n",
    "# 需要有一个初始化的过程    \n",
    "sess.run(tf.global_variables_initializer())\n",
    "\n",
    "# 需要先复原变量\n",
    "print(sess.run('model/weight:0'))\n",
    "print(sess.run('model/bias:0'))\n",
    "# 1\n",
    "\n",
    "# 输入\n",
    "input_x = sess.graph.get_tensor_by_name('input/x:0')\n",
    "\n",
    "op = sess.graph.get_tensor_by_name('model/my:0')\n",
    "\n",
    "ret = sess.run(op,  feed_dict={input_x: 5})\n",
    "print(ret)\n",
    "# 输出 26\n",
    "writer=tf.summary.FileWriter('linear_regression/logs', sess.graph)\n",
    "writer.close()"
   ]
  },
  {
   "cell_type": "code",
   "execution_count": 1,
   "metadata": {},
   "outputs": [
    {
     "name": "stdout",
     "output_type": "stream",
     "text": [
      "WARNING:tensorflow:From <ipython-input-1-c8d3655b162a>:6: FastGFile.__init__ (from tensorflow.python.platform.gfile) is deprecated and will be removed in a future version.\n",
      "Instructions for updating:\n",
      "Use tf.gfile.GFile.\n"
     ]
    }
   ],
   "source": [
    "import tensorflow as tf\n",
    "from tensorflow.python.platform import gfile\n",
    "import os\n",
    "\n",
    "sess = tf.Session()\n",
    "with gfile.FastGFile('/home/ubuntu/code/tensorflow/models/research/object_detection/ssd_mobilenet_v1_coco_11_06_2017/frozen_inference_graph.pb', 'rb') as f:\n",
    "    graph_def = tf.GraphDef()\n",
    "    graph_def.ParseFromString(f.read())\n",
    "    sess.graph.as_default()\n",
    "    tf.import_graph_def(graph_def, name='') # 导入计算图\n",
    "\n",
    "# # 需要有一个初始化的过程    \n",
    "# sess.run(tf.global_variables_initializer())\n",
    "\n",
    "# # 需要先复原变量\n",
    "# print(sess.run('model/weight:0'))\n",
    "# print(sess.run('model/bias:0'))\n",
    "# # 1\n",
    "\n",
    "# # 输入\n",
    "# input_x = sess.graph.get_tensor_by_name('input/x:0')\n",
    "\n",
    "# op = sess.graph.get_tensor_by_name('model/my:0')\n",
    "\n",
    "# ret = sess.run(op,  feed_dict={input_x: 5})\n",
    "# print(ret)\n",
    "# 输出 26\n",
    "writer=tf.summary.FileWriter('linear_regression/logs', sess.graph)\n",
    "writer.close()"
   ]
  },
  {
   "cell_type": "code",
   "execution_count": null,
   "metadata": {},
   "outputs": [],
   "source": []
  }
 ],
 "metadata": {
  "kernelspec": {
   "display_name": "Python 3",
   "language": "python",
   "name": "python3"
  },
  "language_info": {
   "codemirror_mode": {
    "name": "ipython",
    "version": 3
   },
   "file_extension": ".py",
   "mimetype": "text/x-python",
   "name": "python",
   "nbconvert_exporter": "python",
   "pygments_lexer": "ipython3",
   "version": "3.6.7"
  }
 },
 "nbformat": 4,
 "nbformat_minor": 2
}
