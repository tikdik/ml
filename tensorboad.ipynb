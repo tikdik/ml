{
 "cells": [
  {
   "cell_type": "code",
   "execution_count": 3,
   "metadata": {},
   "outputs": [
    {
     "name": "stdout",
     "output_type": "stream",
     "text": [
      "[[0. 1. 2.]\n",
      " [3. 4. 5.]]\n",
      "0.77567565\n"
     ]
    }
   ],
   "source": [
    "import tensorflow as tf\n",
    "import numpy as np\n",
    "\n",
    "# 定义一个计算图，实现两个向量的减法操作\n",
    "\n",
    "# 定义两个输入，a为常量，b为变量\n",
    "\n",
    "a=np.arange(6).astype(np.float32).reshape(2,3) #tf.constant([10.0, 20.0, 40.0], name='a')\n",
    "print(a)\n",
    "\n",
    "with tf.name_scope('input'):\n",
    "    A=tf.placeholder(tf.float32, name='a')\n",
    "    b=tf.Variable(np.random.randn(), name='b')\n",
    "\n",
    "with tf.name_scope('model'):\n",
    "    output=tf.add(A,b, name='add')\n",
    "\n",
    "with tf.name_scope('loss'):\n",
    "    loss=tf.multiply(output,2)\n",
    "\n",
    "init=tf.global_variables_initializer()\n",
    "\n",
    "c=np.asarray([1,2]).astype(np.float32)\n",
    "\n",
    "with tf.Session() as sess:\n",
    "    sess.run(init)\n",
    "    print(sess.run(b))\n",
    "    print(sess.run(loss, feed_dict={A:a}))\n",
    "    \n",
    "    print(sess.run(output, feed_dict={A:c}))\n",
    "    # 生成一个具有写权限的日志文件操作对象，将当前命名空间的计算图写进日志中\n",
    "    writer=tf.summary.FileWriter('tensorboad/logs', sess.graph)\n",
    "    writer.close()"
   ]
  },
  {
   "cell_type": "code",
   "execution_count": null,
   "metadata": {},
   "outputs": [],
   "source": []
  },
  {
   "cell_type": "code",
   "execution_count": null,
   "metadata": {},
   "outputs": [],
   "source": [
    "\n"
   ]
  }
 ],
 "metadata": {
  "kernelspec": {
   "display_name": "Python 3",
   "language": "python",
   "name": "python3"
  },
  "language_info": {
   "codemirror_mode": {
    "name": "ipython",
    "version": 3
   },
   "file_extension": ".py",
   "mimetype": "text/x-python",
   "name": "python",
   "nbconvert_exporter": "python",
   "pygments_lexer": "ipython3",
   "version": "3.6.7"
  }
 },
 "nbformat": 4,
 "nbformat_minor": 2
}
